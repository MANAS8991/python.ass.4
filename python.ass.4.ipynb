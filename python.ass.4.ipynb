{
 "cells": [
  {
   "cell_type": "markdown",
   "id": "ae0731ea",
   "metadata": {},
   "source": [
    "# 1. What exactly is []?"
   ]
  },
  {
   "cell_type": "code",
   "execution_count": null,
   "id": "d088a791",
   "metadata": {},
   "outputs": [],
   "source": [
    "The brackets [] typically denote an empty list or an empty array, depending on the programming context. Lists and arrays are data structures used in computer programming to store and organize collections of items.\n",
    "For example, in Python, you can define an empty list like this:\n",
    "    my_list=[]"
   ]
  },
  {
   "cell_type": "markdown",
   "id": "c3a97e48",
   "metadata": {},
   "source": [
    "# 2. In a list of values stored in a variable called spam, how would you assign the value 'hello' as the third value? (Assume [2, 4, 6, 8, 10] are in spam.)"
   ]
  },
  {
   "cell_type": "code",
   "execution_count": 4,
   "id": "9bb5e631",
   "metadata": {},
   "outputs": [],
   "source": [
    "# In Python, list indices start from 0, so the third value would have an index of 2. Here's how you can assign the value 'hello' to the third position in the spam list:\n",
    "spam = [2, 4, 6, 8, 10]\n",
    "spam[2] = 'hello'\n",
    "\n",
    "# After executing this code, the spam list will be updated as [2, 4, 'hello', 8, 10], with 'hello' replacing the previous value at the third position.\n"
   ]
  },
  {
   "cell_type": "markdown",
   "id": "5a195b24",
   "metadata": {},
   "source": [
    "# 3.what is the value of spam[int(int('3'*2)/11)]?"
   ]
  },
  {
   "cell_type": "code",
   "execution_count": 5,
   "id": "3b40e895",
   "metadata": {},
   "outputs": [],
   "source": [
    "The expression int('3' * 2) / 11 evaluates to 33 / 11, which is equal to 3.0 (as both int('3' * 2) and 11 are integers, so division results in a float). Therefore, spam[int(int('3' * 2) / 11)] becomes spam[3]. Since list indices start from 0, the fourth element in the spam list is 'd'. Thus, the value of spam[int(int('3' * 2) / 11)] is 'd'."
   ]
  },
  {
   "cell_type": "markdown",
   "id": "d1620891",
   "metadata": {},
   "source": [
    "# 4.What is the value of spam[-1]?"
   ]
  },
  {
   "cell_type": "code",
   "execution_count": null,
   "id": "7a8d711b",
   "metadata": {},
   "outputs": [],
   "source": [
    "The index -1 refers to the last element of the list. In this case, the last element of spam is 'd'. Therefore, the value of spam[-1] is 'd'."
   ]
  },
  {
   "cell_type": "markdown",
   "id": "8e732235",
   "metadata": {},
   "source": [
    "# 5. What is the value of spam[:2]?"
   ]
  },
  {
   "cell_type": "code",
   "execution_count": null,
   "id": "e324ec06",
   "metadata": {},
   "outputs": [],
   "source": [
    "The slicing notation [:2] retrieves elements from the beginning of the list up to, but not including, the element at index 2. In other words, it fetches the elements at indices 0 and 1. Thus, spam[:2] returns a new list ['a', 'b']."
   ]
  },
  {
   "cell_type": "markdown",
   "id": "47eda294",
   "metadata": {},
   "source": [
    "# 6.What is the value of bacon.index('cat')?"
   ]
  },
  {
   "cell_type": "code",
   "execution_count": 8,
   "id": "61f58a22",
   "metadata": {},
   "outputs": [],
   "source": [
    "#you want to find the index of the element 'cat' in the bacon list.\n",
    "bacon = [3.14, 'cat', 11, 'cat', True]\n",
    "index = bacon.index('cat')\n",
    "#After executing the code, the value of index will be 1. This means that the first occurrence of 'cat' is found at index 1 in the bacon list"
   ]
  },
  {
   "cell_type": "markdown",
   "id": "06843b1c",
   "metadata": {},
   "source": [
    "# 7.How does bacon.append(99) change the look of the list value in bacon?"
   ]
  },
  {
   "cell_type": "code",
   "execution_count": 9,
   "id": "9944044a",
   "metadata": {},
   "outputs": [],
   "source": [
    "The append() method in Python is used to add an element to the end of a list. In this case, bacon.append(99) adds the element 99 to the end of the bacon list.\n",
    "bacon = [3.14, 'cat', 11, 'cat', True]\n",
    "bacon.append(99)\n",
    "\n",
    "New value of bacon will be [3.14, 'cat', 11, 'cat', True, 99].\n"
   ]
  },
  {
   "cell_type": "markdown",
   "id": "6ef758bf",
   "metadata": {},
   "source": [
    "# 8.How does bacon.remove('cat') change the look of the list in bacon?"
   ]
  },
  {
   "cell_type": "code",
   "execution_count": null,
   "id": "f3185c0f",
   "metadata": {},
   "outputs": [],
   "source": [
    "The remove() method in Python is used to remove the first occurrence of a specified element from a list. In this case, bacon.remove('cat') will remove the first occurrence of the element 'cat' from the bacon list.\n",
    "bacon = [3.14, 'cat', 11, 'cat', True]\n",
    "bacon.remove('cat')\n",
    "\n",
    "New value of bacon will be [3.14, 11, 'cat', True]."
   ]
  },
  {
   "cell_type": "markdown",
   "id": "c619add0",
   "metadata": {},
   "source": [
    "# 9.What are the list concatenation and list replication operators?"
   ]
  },
  {
   "cell_type": "code",
   "execution_count": null,
   "id": "507f4ace",
   "metadata": {},
   "outputs": [],
   "source": [
    "1- List Concatenation Operator (+):\n",
    "The + operator allows you to concatenate or combine two lists into a single list. When you use the + operator with two lists, it creates a new list that contains all the elements from both lists in the order they appear.\n",
    "\n",
    "Here's an example of using the + operator for list concatenation:\n",
    "\n",
    "list1 = [1, 2, 3]\n",
    "list2 = [4, 5, 6]\n",
    "concatenated_list = list1 + list2\n",
    "\n",
    "After executing this code, concatenated_list will be [1, 2, 3, 4, 5, 6], which is the result of concatenating list1 and list2.\n",
    "\n",
    "2- List Replication Operator (*):\n",
    "The * operator, when used with a list and an integer, allows you to replicate or repeat the elements of the list a certain number of times. It creates a new list by repeating the elements of the original list as specified by the integer.\n",
    "\n",
    "Here's an example of using the * operator for list replication:\n",
    "\n",
    "original_list = [1, 2, 3]\n",
    "replicated_list = original_list * 3\n",
    "\n",
    "\n",
    "After executing this code, replicated_list will be [1, 2, 3, 1, 2, 3, 1, 2, 3], which is the result of replicating original_list three times."
   ]
  },
  {
   "cell_type": "markdown",
   "id": "ae7f7812",
   "metadata": {},
   "source": [
    "# 10. What is difference between the list methods append() and insert()?"
   ]
  },
  {
   "cell_type": "code",
   "execution_count": null,
   "id": "5880c34f",
   "metadata": {},
   "outputs": [],
   "source": [
    "1- append() method:\n",
    "The append() method is used to add an element at the end of a list. It modifies the original list by adding the element as the last item.\n",
    "\n",
    "Syntax:    list_name.append(element)\n",
    "    \n",
    "Example: \n",
    "my_list = [1, 2, 3]\n",
    "my_list.append(4)\n",
    "\n",
    "After executing my_list.append(4), the value of my_list will be [1, 2, 3, 4]. The element 4 is appended to the end of the list.\n",
    "\n",
    "\n",
    "2- insert() method:\n",
    "The insert() method is used to add an element at a specific index position within a list. It allows you to specify the index where the element should be inserted, and the existing elements are shifted to accommodate the new element.\n",
    "\n",
    "Syntax:    list_name.insert(index, element)\n",
    "Example:\n",
    "my_list = [1, 2, 3]\n",
    "my_list.insert(1, 4)\n",
    "    \n",
    "After executing my_list.insert(1, 4), the value of my_list will be [1, 4, 2, 3]. The element 4 is inserted at index 1, shifting the existing elements to the right.\n",
    "\n",
    "\n",
    "    "
   ]
  },
  {
   "cell_type": "markdown",
   "id": "d9baeff4",
   "metadata": {},
   "source": [
    "# 11.What are the two methods for removing items from a list?"
   ]
  },
  {
   "cell_type": "code",
   "execution_count": null,
   "id": "42d8308c",
   "metadata": {},
   "outputs": [],
   "source": [
    "1- remove() method:\n",
    "syntax: list_name.remove(element)\n",
    "Example:    \n",
    "my_list = [1, 2, 3, 2]\n",
    "my_list.remove(2)\n",
    "\n",
    "2- pop() method:\n",
    "syntax:  list_name.pop(index)\n",
    "Example:\n",
    "my_list = [1, 2, 3]\n",
    "removed_element = my_list.pop(1)\n",
    "\n",
    "remove() removes the first occurrence of a specified element from the list.\n",
    "pop() removes an element from the list based on its index and returns the removed element.\n",
    "    \n",
    "\n"
   ]
  },
  {
   "cell_type": "markdown",
   "id": "80a83969",
   "metadata": {},
   "source": [
    "# 12. Describe how list values and string values are identical."
   ]
  },
  {
   "cell_type": "code",
   "execution_count": null,
   "id": "b377e065",
   "metadata": {},
   "outputs": [],
   "source": [
    "1- Sequences: Both lists and strings are sequences, meaning they are ordered collections of elements. The elements in both data types can be accessed using indexing and slicing.\n",
    "2- ndexing: Both lists and strings support positive and negative indexing. Positive indices refer to elements from the beginning (starting at index 0), while negative indices refer to elements from the end (starting at index -1).\n",
    "3- Slicing: Both lists and strings allow you to extract subsequences using slicing. Slicing enables you to obtain a portion of the list or string by specifying a range of indices.\n",
    "4-  Iteration: You can iterate over both lists and strings using loops, such as for loops, to access each element or character in the sequence.\n",
    "5- Length: You can determine the length of both lists and strings using the len() function. It returns the number of elements in a list or the number of characters in a string.\n",
    "6- String-specific Methods: Strings have methods specific to strings, such as upper(), lower(), split(), etc., which provide string-specific operations. Lists have methods specific to lists, such as append(), pop(), sort(), etc., which enable list-specific operations."
   ]
  },
  {
   "cell_type": "markdown",
   "id": "f8879435",
   "metadata": {},
   "source": [
    "# 13.What's the difference between tuples and lists?"
   ]
  },
  {
   "cell_type": "code",
   "execution_count": null,
   "id": "9c2f85e9",
   "metadata": {},
   "outputs": [],
   "source": [
    "1- Mutability: Tuples are immutable, while lists are mutable. This means that once a tuple is created, its elements cannot be modified, added, or removed. In contrast, lists can be modified by adding, changing, or removing elements after they are created.\n",
    "\n",
    "2- Syntax: Tuples are defined using parentheses () or simply commas , without any explicit syntax for denoting a tuple. For example: (1, 2, 3) or 1, 2, 3. Lists, on the other hand, are defined using square brackets []. For example: [1, 2, 3].\n",
    "\n",
    "3- Usage and Purpose: Tuples are commonly used to represent a collection of related values that should remain constant throughout the program. They are useful for cases where immutability is desired, such as representing coordinates, database records, or returning multiple values from a function. Lists, being mutable, are used when the collection needs to be modified, expanded, or ordered. They are generally more versatile and commonly used for various data manipulation tasks.\n",
    "\n",
    "4- Operations and Methods: Lists offer a wider range of operations and methods compared to tuples. Since lists are mutable, you can modify elements, add new elements with append() or extend(), remove elements with pop() or remove(), sort elements with sort(), and more. Tuples, being immutable, have a limited set of methods available, primarily focused on accessing and manipulating the tuple's elements.\n",
    "\n",
    "5- Performance: Tuples are generally more memory-efficient and performant than lists. Since tuples are immutable, their size and content remain constant, allowing Python to optimize memory usage. Lists, being mutable, require additional memory allocation to accommodate changes in size or content."
   ]
  },
  {
   "cell_type": "markdown",
   "id": "9486521a",
   "metadata": {},
   "source": [
    "# 14.How do you type a tuple value that only contains the integer 42?"
   ]
  },
  {
   "cell_type": "code",
   "execution_count": null,
   "id": "f1e19468",
   "metadata": {},
   "outputs": [],
   "source": [
    "my_tuple = (42,)\n",
    "\n",
    "In Python, a tuple with a single element is created by placing a comma , after the element within parentheses. This distinguishes it from the parentheses used for grouping expressions. Without the trailing comma, Python would interpret the expression (42) as an integer enclosed in parentheses, rather than a tuple.\n",
    "\n",
    "By including the comma after 42, the resulting tuple my_tuple will contain the integer 42 as its sole element.\n"
   ]
  },
  {
   "cell_type": "markdown",
   "id": "b2d00a38",
   "metadata": {},
   "source": [
    "# 15.How do you get a list value's tuple form? How do you get a tuple value's list form?"
   ]
  },
  {
   "cell_type": "code",
   "execution_count": null,
   "id": "492da9a2",
   "metadata": {},
   "outputs": [],
   "source": [
    "To convert a list value to its tuple form, you can use the tuple() function. Here's an example:\n",
    "my_list = [1, 2, 3, 4]\n",
    "my_tuple = tuple(my_list)\n",
    "\n",
    "In this code, the tuple() function is called with the my_list variable as an argument. It converts the list to a tuple, and the resulting tuple is assigned to the my_tuple variable. Now, my_tuple holds the tuple form of the original list.\n",
    "\n",
    "Conversely, to convert a tuple value to its list form, you can use the list() function. Here's an example:\n",
    "my_tuple = (1, 2, 3, 4)\n",
    "my_list = list(my_tuple)\n",
    "\n",
    "In this code, the list() function is called with the my_tuple variable as an argument. It converts the tuple to a list, and the resulting list is assigned to the my_list variable. Now, my_list holds the list form of the original tuple.\n"
   ]
  },
  {
   "cell_type": "markdown",
   "id": "87f88f6c",
   "metadata": {},
   "source": [
    "# 16. Variables that \"contain\" list values are not necessarily lists themselves. Instead, what do they contain?"
   ]
  },
  {
   "cell_type": "code",
   "execution_count": null,
   "id": "c959d9f5",
   "metadata": {},
   "outputs": [],
   "source": [
    "Variables that \"contain\" list values in Python do not actually contain the list itself. Instead, they contain a reference or pointer to the list. This means that the variable stores the memory address where the list is located in the computer's memory.\n",
    "example:\n",
    "my_list = [1, 2, 3]\n",
    "\n",
    "In this case, the variable my_list does not actually store the entire list [1, 2, 3]. Instead, it contains a reference to the memory location where the list object is stored.\n",
    "\n",
    "This distinction becomes important when working with mutable objects like lists. For example, if we assign the value of my_list to another variable new_list:\n",
    "new_list = my_list\n",
    "\n",
    "Both my_list and new_list will refer to the same list object in memory. Any modifications made to the list through one variable will be reflected when accessing the list through the other variable.\n",
    "    "
   ]
  },
  {
   "cell_type": "markdown",
   "id": "b0c173fb",
   "metadata": {},
   "source": [
    "# 17. How do you distinguish between copy.copy() and copy.deepcopy()?"
   ]
  },
  {
   "cell_type": "code",
   "execution_count": null,
   "id": "096624ce",
   "metadata": {},
   "outputs": [],
   "source": [
    "1- copy.copy():\n",
    "The copy.copy() function creates a shallow copy of an object. A shallow copy creates a new object and then inserts references to the objects found in the original. This means that if the object contains other mutable objects, the copied object will still refer to the same underlying objects.\n",
    "\n",
    "Example:\n",
    "import copy\n",
    "\n",
    "original_list = [1, 2, [3, 4]]\n",
    "copied_list = copy.copy(original_list)\n",
    "\n",
    "After executing this code, copied_list will be a shallow copy of original_list. Modifying the nested list within copied_list will affect the corresponding nested list in original_list.\n",
    "\n",
    "2- copy.deepcopy():\n",
    "The copy.deepcopy() function creates a deep copy of an object. A deep copy creates a new object and recursively inserts copies of the objects found in the original. This means that all objects, including any nested objects, are duplicated, resulting in a completely independent copy.\n",
    "\n",
    "Example:\n",
    "import copy\n",
    "\n",
    "original_list = [1, 2, [3, 4]]\n",
    "deep_copied_list = copy.deepcopy(original_list)\n",
    "\n",
    "After executing this code, deep_copied_list will be a deep copy of original_list. Modifying the nested list within deep_copied_list will not affect the corresponding nested list in original_list.\n",
    "\n",
    "\n",
    " copy.copy() creates a shallow copy, which means the copied object shares references with the original object for any nested mutable objects.\n",
    "copy.deepcopy() creates a deep copy, which means the copied object is completely independent, including any nested mutable objects. "
   ]
  }
 ],
 "metadata": {
  "kernelspec": {
   "display_name": "Python 3 (ipykernel)",
   "language": "python",
   "name": "python3"
  },
  "language_info": {
   "codemirror_mode": {
    "name": "ipython",
    "version": 3
   },
   "file_extension": ".py",
   "mimetype": "text/x-python",
   "name": "python",
   "nbconvert_exporter": "python",
   "pygments_lexer": "ipython3",
   "version": "3.9.12"
  }
 },
 "nbformat": 4,
 "nbformat_minor": 5
}
